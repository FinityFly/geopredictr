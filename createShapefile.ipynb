{
 "cells": [
  {
   "cell_type": "code",
   "execution_count": 1,
   "metadata": {},
   "outputs": [],
   "source": [
    "import geopandas as gpd\n",
    "import pandas as pd\n",
    "from matplotlib import pyplot as plt\n",
    "from shapely.ops import transform\n",
    "from shapely.geometry import Point, Polygon\n",
    "import numpy as np\n",
    "import pickle"
   ]
  },
  {
   "cell_type": "code",
   "execution_count": 3,
   "metadata": {},
   "outputs": [],
   "source": [
    "shapefile_filepath = \"assets/shapefile/lpr_000b21a_e.shp\"\n",
    "canada_gdf = gpd.read_file(shapefile_filepath)\n",
    "\n",
    "# %matplotlib inline\n",
    "# canada_gdf.plot()"
   ]
  },
  {
   "cell_type": "code",
   "execution_count": 4,
   "metadata": {},
   "outputs": [],
   "source": [
    "# canadaCentre = Point(-96.47, 62.40)\n",
    "# buttsLake = Point(-92.86, 64.18)\n",
    "ontarioCentre = Point(-85.32, 51.25)\n",
    "whatCentre = Point(6*10^6, 2*10^6)\n",
    "\n",
    "centre = ontarioCentre\n",
    "\n",
    "print(canada_gdf)\n",
    "\n",
    "for index, poly in enumerate(canada_gdf.geometry[5].geoms):\n",
    "    x, y = poly.exterior.xy\n",
    "    plt.plot(x, y)\n",
    "    if centre.within(poly):\n",
    "        canadaPoly = np.array([(xi, yi) for xi, yi in zip(x, y)])\n",
    "        print(\"Mainland at polygon {} \".format(index))\n",
    "plt.scatter([centre.x], [centre.y], c='r', marker='x', s=200)\n",
    "plt.show()"
   ]
  },
  {
   "cell_type": "code",
   "execution_count": null,
   "metadata": {},
   "outputs": [],
   "source": [
    "print(canadaPoly.shape)\n",
    "\n",
    "pickle.dump(canadaPoly, open(\"data/pickle/canadaPoly.pkl\", \"wb\"))"
   ]
  }
 ],
 "metadata": {
  "kernelspec": {
   "display_name": "base",
   "language": "python",
   "name": "python3"
  },
  "language_info": {
   "codemirror_mode": {
    "name": "ipython",
    "version": 3
   },
   "file_extension": ".py",
   "mimetype": "text/x-python",
   "name": "python",
   "nbconvert_exporter": "python",
   "pygments_lexer": "ipython3",
   "version": "3.9.18"
  },
  "orig_nbformat": 4
 },
 "nbformat": 4,
 "nbformat_minor": 2
}
